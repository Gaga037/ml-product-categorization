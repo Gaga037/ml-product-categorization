{
  "nbformat": 4,
  "nbformat_minor": 0,
  "metadata": {
    "colab": {
      "provenance": [],
      "authorship_tag": "ABX9TyMyjOyAo6BaD9JBvYdUzY9/",
      "include_colab_link": true
    },
    "kernelspec": {
      "name": "python3",
      "display_name": "Python 3"
    },
    "language_info": {
      "name": "python"
    }
  },
  "cells": [
    {
      "cell_type": "markdown",
      "metadata": {
        "id": "view-in-github",
        "colab_type": "text"
      },
      "source": [
        "<a href=\"https://colab.research.google.com/github/Gaga037/ml-product-categorization/blob/main/notebook/product_category_classifier.ipynb\" target=\"_parent\"><img src=\"https://colab.research.google.com/assets/colab-badge.svg\" alt=\"Open In Colab\"/></a>"
      ]
    },
    {
      "cell_type": "markdown",
      "source": [
        "#Predikcija kategorije proizvoda na osnovu naslova\n",
        "\n",
        " * Cilj ovog zadatka je da razvijemo model masinskog ucenja\n",
        " * Na ovaj nacin doprinosimo tome da proces unosa proizvoda na online platformi postane brzi, jednostavniji i precizniji\n",
        " * Model omogucava da svaki novi artikal odmah dobije pravu kategoriju"
      ],
      "metadata": {
        "id": "Q9dGFwiUH2XE"
      }
    },
    {
      "cell_type": "markdown",
      "source": [],
      "metadata": {
        "id": "rsFdRdpzIgWi"
      }
    }
  ]
}