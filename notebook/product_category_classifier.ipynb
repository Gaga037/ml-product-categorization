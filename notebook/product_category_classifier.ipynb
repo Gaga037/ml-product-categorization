{
  "nbformat": 4,
  "nbformat_minor": 0,
  "metadata": {
    "colab": {
      "provenance": [],
      "authorship_tag": "ABX9TyP3Ziy7V3yfdLYgn/XITgBb",
      "include_colab_link": true
    },
    "kernelspec": {
      "name": "python3",
      "display_name": "Python 3"
    },
    "language_info": {
      "name": "python"
    }
  },
  "cells": [
    {
      "cell_type": "markdown",
      "metadata": {
        "id": "view-in-github",
        "colab_type": "text"
      },
      "source": [
        "<a href=\"https://colab.research.google.com/github/Gaga037/ml-product-categorization/blob/main/notebook/product_category_classifier.ipynb\" target=\"_parent\"><img src=\"https://colab.research.google.com/assets/colab-badge.svg\" alt=\"Open In Colab\"/></a>"
      ]
    },
    {
      "cell_type": "markdown",
      "source": [
        "#Predikcija kategorije proizvoda na osnovu naslova\n",
        "\n",
        " * Cilj ovog zadatka je da razvijemo model masinskog ucenja\n",
        " * Na ovaj nacin doprinosimo tome da proces unosa proizvoda na online platformi postane brzi, jednostavniji i precizniji\n",
        " * Model omogucava da svaki novi artikal odmah dobije pravu kategoriju"
      ],
      "metadata": {
        "id": "Q9dGFwiUH2XE"
      }
    },
    {
      "cell_type": "markdown",
      "source": [],
      "metadata": {
        "id": "rsFdRdpzIgWi"
      }
    },
    {
      "cell_type": "code",
      "source": [
        "import pandas as pd\n",
        "\n",
        "# load dataset from GitHub\n",
        "url = \"https://raw.githubusercontent.com/Gaga037/ml-product-categorization/main/data/products.csv\"\n",
        "df = pd.read_csv(url)\n",
        "\n",
        "print(\"Number of rows:\", len(df))\n",
        "print(\"First 5 rows:\")\n",
        "print(df.head())\n"
      ],
      "metadata": {
        "colab": {
          "base_uri": "https://localhost:8080/"
        },
        "id": "qEa31RD7UCW0",
        "outputId": "94fd9fe8-c451-4c20-9728-43a0a8123bba"
      },
      "execution_count": 3,
      "outputs": [
        {
          "output_type": "stream",
          "name": "stdout",
          "text": [
            "Number of rows: 35311\n",
            "First 5 rows:\n",
            "   product ID                                      Product Title  Merchant ID  \\\n",
            "0           1                    apple iphone 8 plus 64gb silver            1   \n",
            "1           2                apple iphone 8 plus 64 gb spacegrau            2   \n",
            "2           3  apple mq8n2b/a iphone 8 plus 64gb 5.5 12mp sim...            3   \n",
            "3           4                apple iphone 8 plus 64gb space grey            4   \n",
            "4           5  apple iphone 8 plus gold 5.5 64gb 4g unlocked ...            5   \n",
            "\n",
            "   Category Label _Product Code  Number_of_Views  Merchant Rating  \\\n",
            "0   Mobile Phones    QA-2276-XC            860.0              2.5   \n",
            "1   Mobile Phones    KA-2501-QO           3772.0              4.8   \n",
            "2   Mobile Phones    FP-8086-IE           3092.0              3.9   \n",
            "3   Mobile Phones    YI-0086-US            466.0              3.4   \n",
            "4   Mobile Phones    NZ-3586-WP           4426.0              1.6   \n",
            "\n",
            "   Listing Date    \n",
            "0       5/10/2024  \n",
            "1      12/31/2024  \n",
            "2      11/10/2024  \n",
            "3        5/2/2022  \n",
            "4       4/12/2023  \n"
          ]
        }
      ]
    }
  ]
}